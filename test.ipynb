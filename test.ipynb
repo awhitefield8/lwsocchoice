{
 "cells": [
  {
   "cell_type": "markdown",
   "source": [
    "# Benchmarking low complexity voting mechanisms "
   ],
   "metadata": {}
  },
  {
   "cell_type": "markdown",
   "source": [
    "## Dependencies"
   ],
   "metadata": {}
  },
  {
   "cell_type": "code",
   "execution_count": 2,
   "source": [
    "import random\n",
    "import numpy as np\n",
    "import math\n",
    "import pandas as pd\n",
    "import statistics\n",
    "import seaborn as sns\n",
    "import copy \n",
    "import itertools\n",
    "\n"
   ],
   "outputs": [],
   "metadata": {}
  },
  {
   "cell_type": "code",
   "execution_count": 3,
   "source": [
    "from lwsocchoice.funcs import *\n",
    "from lwsocchoice.votingRules import *\n",
    "from lwsocchoice.models import * "
   ],
   "outputs": [],
   "metadata": {}
  },
  {
   "cell_type": "markdown",
   "source": [
    "## Helper functions\n",
    "\n",
    " First we define some helper functions that will help with displaying the results"
   ],
   "metadata": {}
  },
  {
   "cell_type": "code",
   "execution_count": 4,
   "source": [
    "def myprint(string,x):\n",
    "    print(string +\": \" + str(round(x,2)))"
   ],
   "outputs": [],
   "metadata": {}
  },
  {
   "cell_type": "markdown",
   "source": [
    "## Generate problem instance\n",
    "\n",
    "We generate an instance with 1000 voters, and 8 alturnatives. We will use Borda scores as the desrised voting rule."
   ],
   "metadata": {}
  },
  {
   "cell_type": "code",
   "execution_count": 5,
   "source": [
    "S_number = 8 #states\n",
    "n_perms = len(list(itertools.permutations([i for i in range(S_number)]))) #divide alpha by this to create interesting distributions\n",
    "N_voters = 1000 #voters\n",
    "random.seed(1)"
   ],
   "outputs": [],
   "metadata": {}
  },
  {
   "cell_type": "markdown",
   "source": [
    "Next we generate a voting instance. We do this by drawing a preference orderings for each individual. "
   ],
   "metadata": {}
  },
  {
   "cell_type": "code",
   "execution_count": 6,
   "source": [
    "true_orderings = zeroCorrelOrdering(N=N_voters,S=S_number,ALPHA_VAL=1/n_perms,asym_graph=True) #generate distribution of orderings, returns a dictionary\n",
    "true_edge_weights = true_orderings[\"edge_weights\"]\n",
    "true_prob_values = true_orderings[\"prob_values\"]"
   ],
   "outputs": [],
   "metadata": {}
  },
  {
   "cell_type": "markdown",
   "source": [
    "Using the generated preferences, we generate instances of voting objectives. "
   ],
   "metadata": {}
  },
  {
   "cell_type": "code",
   "execution_count": 13,
   "source": [
    "V_inst = V(n_states=S_number,edge_weights=true_edge_weights,prob_values=true_prob_values) # generate V instance\n",
    "votingrule = VotingRule(name=\"sym_borda\",scoreFn=symBordaScoreFn) #pick voting rule\n",
    "M_inst = M(n_states=S_number,n_voters=N_voters,V_INST=V_inst) # generate M instance"
   ],
   "outputs": [],
   "metadata": {}
  },
  {
   "cell_type": "markdown",
   "source": [
    "To demonstate functionality, we using the `updateGraphFixed' voting mechanism. This mechanism is resembles what is occurs most commonly in practice. A subset of states are chosen, and each voters determins thier preference ordering over these two states. We consider a subset of size 2."
   ],
   "metadata": {}
  },
  {
   "cell_type": "code",
   "execution_count": 14,
   "source": [
    "# run benchmark\n",
    "M_inst.updateGraphFixed(states_polled=2) #approximate graph\n",
    "M_inst.applyVotingRule(votingrule)\n",
    "\n",
    "print(M_inst)\n",
    "print(M_inst.socialLossStats())"
   ],
   "outputs": [
    {
     "output_type": "stream",
     "name": "stdout",
     "text": [
      "states 8 ; voter count 1000 ; MV distance 0.348000\n",
      "{'voting_rule': 'sym_borda', 'ex ante social loss': None, 'polling scheme': 'updateGraphFixed', 'true_winner': 2, 'previous est_winner': 2, 'previous exPostLoss': 0.0}\n"
     ]
    }
   ],
   "metadata": {}
  },
  {
   "cell_type": "markdown",
   "source": [
    "We then try the 'updateGraphRS' voting mechanism. This mechanism asks each voter for their preference ordering over a random subset of states. Using the estimated pariwise election graph, the mechanism computes the expected Borda winner and selects this as the winner. We consider a subset of size 2."
   ],
   "metadata": {}
  },
  {
   "cell_type": "code",
   "execution_count": 15,
   "source": [
    "# run approx\n",
    "M_inst.updateGraphRS() #approximate graph\n",
    "M_inst.applyVotingRule(votingrule) #apply rule \n",
    "print(M_inst)\n",
    "print(M_inst.socialLossStats())"
   ],
   "outputs": [
    {
     "output_type": "stream",
     "name": "stdout",
     "text": [
      "states 8 ; voter count 1000 ; MV distance 0.029000\n",
      "{'voting_rule': 'sym_borda', 'ex ante social loss': None, 'polling scheme': 'updateGraphRS', 'true_winner': 2, 'previous est_winner': 2, 'previous exPostLoss': 0.0}\n"
     ]
    }
   ],
   "metadata": {}
  },
  {
   "cell_type": "markdown",
   "source": [
    "We then try the 'updateGraphRepBureau' voting mechanism. This mechanism selects a random `parliment' from the population. It then extracts the full preference ordering from the random parliment, and applies the voting rule to parliments preference ordering. We consider a comittee of 15 individuals. Note that in previous two cases, we require 1000 decisions in total as we require one decision from each voter. Presuming preferences are transitive, an individual can find their preference ordering in O(nlogn) time. A simple, but crude sorting algorithm can sort preferences 8^2 = 64 decisions. A random parliment could therefore contain at least 15 < 1000/64 members while using fewer total decisions than the previous mechanisms. "
   ],
   "metadata": {}
  },
  {
   "cell_type": "code",
   "execution_count": 16,
   "source": [
    "# run random parliment\n",
    "M_inst.updateGraphRepBureau(15) \n",
    "M_inst.applyVotingRule(votingrule)\n",
    "print(M_inst)\n",
    "print(M_inst.socialLossStats())"
   ],
   "outputs": [
    {
     "output_type": "stream",
     "name": "stdout",
     "text": [
      "states 8 ; voter count 1000 ; MV distance 0.057000\n",
      "{'voting_rule': 'sym_borda', 'ex ante social loss': None, 'polling scheme': 'updateGraphRepBureau', 'true_winner': 2, 'previous est_winner': 3, 'previous exPostLoss': 0.17114015261596505}\n"
     ]
    }
   ],
   "metadata": {}
  },
  {
   "cell_type": "markdown",
   "source": [
    "In this instance, both the 'updateGraphRS' and 'updateGraphRepBureau' mechanism correctly guess the socially optimal choice i.e. state 6. Fo the same set of preferences, we record the results for 100 instances of the random voting rules."
   ],
   "metadata": {}
  },
  {
   "cell_type": "code",
   "execution_count": 18,
   "source": [
    "for i in [\"updateGraphFixed\",\"updateGraphRS\",\"updateGraphRepBureau\"]:\n",
    "    M_inst.calcExAnteSocialLoss(votingRule=votingrule,sampling_scheme=i,iters=100,repBureau_size=15)\n",
    "    myprint(i ,M_inst.exAnteSocialLoss)"
   ],
   "outputs": [
    {
     "output_type": "stream",
     "name": "stdout",
     "text": [
      "updateGraphFixed: 1.16\n",
      "updateGraphRS: 0.03\n",
      "updateGraphRepBureau: 0.06\n"
     ]
    }
   ],
   "metadata": {}
  },
  {
   "cell_type": "markdown",
   "source": [
    "Across different realisations of the voting rules, 'updateGraphRS' appears to have the lowest expected distance to the socially optimal choice. However, this is specific to the particular preference ordering generated by the zeroCorrelOrdering function. "
   ],
   "metadata": {}
  },
  {
   "cell_type": "markdown",
   "source": [
    "## Benchmarking excersize"
   ],
   "metadata": {}
  },
  {
   "cell_type": "markdown",
   "source": [
    "The previous excersize was for a particular choice of preference orderings, and a particular instance of the random  'updateGraphRS' and 'updateGraphRepBureau' mechanisms. To get a better idea of the performance of the schemes, albeit for the same number of states and voters, we repeat the excersize 100 times and record the results. "
   ],
   "metadata": {}
  },
  {
   "cell_type": "code",
   "execution_count": 19,
   "source": [
    "S_number = 8 #states\n",
    "n_perms = len(list(itertools.permutations([i for i in range(S_number)]))) #divide alpha by this to create interesting distributions\n",
    "N_voters = 1000 #voters\n",
    "votingrule = VotingRule(name=\"sym_borda\",scoreFn=symBordaScoreFn) #pick voting rule\n",
    "random.seed(2)\n",
    "ITERS = 100"
   ],
   "outputs": [],
   "metadata": {}
  },
  {
   "cell_type": "code",
   "execution_count": 20,
   "source": [
    "#initialise lists\n",
    "updateGraphFixed_list = [-1]*ITERS\n",
    "updateGraphRS_list = [-1]*ITERS\n",
    "updateGraphRepBureau_list = [-1]*ITERS\n",
    "\n",
    "\n",
    "\n",
    "for j in range(ITERS):\n",
    "    # drawe preference distribution\n",
    "    true_orderings = zeroCorrelOrdering(N=N_voters,S=S_number,ALPHA_VAL=1/n_perms,asym_graph=True) #generate distribution of orderings, returns a dictionary\n",
    "    true_edge_weights = true_orderings[\"edge_weights\"]\n",
    "    true_prob_values = true_orderings[\"prob_values\"]\n",
    "\n",
    "    V_inst = V(n_states=S_number,edge_weights=true_edge_weights,prob_values=true_prob_values) # generate V instance\n",
    "    M_inst = M(n_states=S_number,n_voters=N_voters,V_INST=V_inst) # generate M instance\n",
    "\n",
    "    #store results \n",
    "    M_inst.calcExAnteSocialLoss(votingRule=votingrule,sampling_scheme='updateGraphFixed',iters=1,repBureau_size=15)\n",
    "    updateGraphFixed_list[j] = M_inst.exAnteSocialLoss\n",
    "\n",
    "    M_inst.calcExAnteSocialLoss(votingRule=votingrule,sampling_scheme='updateGraphRS',iters=1,repBureau_size=15)\n",
    "    updateGraphRS_list[j] = M_inst.exAnteSocialLoss\n",
    "\n",
    "    M_inst.calcExAnteSocialLoss(votingRule=votingrule,sampling_scheme='updateGraphRepBureau',iters=1,repBureau_size=15)\n",
    "    updateGraphRepBureau_list[j] = M_inst.exAnteSocialLoss\n",
    "\n",
    "\n",
    "print('mean updateGraphFixed: %f' % np.mean(updateGraphFixed_list))\n",
    "print('mean updateGraphRS: %f' % np.mean(updateGraphRS_list))\n",
    "print('mean updateGraphRepBureau: %f' % np.mean(updateGraphRepBureau_list))\n"
   ],
   "outputs": [
    {
     "output_type": "stream",
     "name": "stdout",
     "text": [
      "mean updateGraphFixed: 1.501133\n",
      "mean updateGraphRS: 0.015318\n",
      "mean updateGraphRepBureau: 0.053334\n"
     ]
    }
   ],
   "metadata": {}
  },
  {
   "cell_type": "markdown",
   "source": [
    "We then plot the distributions"
   ],
   "metadata": {}
  },
  {
   "cell_type": "code",
   "execution_count": 21,
   "source": [
    "import seaborn as sns\n",
    "import matplotlib.pyplot as plt\n",
    "i"
   ],
   "outputs": [
    {
     "output_type": "execute_result",
     "data": {
      "text/plain": [
       "'updateGraphRepBureau'"
      ]
     },
     "metadata": {},
     "execution_count": 21
    }
   ],
   "metadata": {}
  },
  {
   "cell_type": "code",
   "execution_count": 22,
   "source": [
    "sns.set(style='darkgrid')\n",
    "\n",
    "df = pd.DataFrame({'group': ['updateGraphFixed']*ITERS + ['updateGraphRS']*ITERS + ['updateGraphRepBureau']*ITERS,\n",
    "                   'loss': updateGraphFixed_list + updateGraphRS_list + updateGraphRepBureau_list})\n",
    "\n",
    "\n",
    "sns.boxplot(x='group',y='loss',data=df)\n",
    "plt.show()"
   ],
   "outputs": [
    {
     "output_type": "display_data",
     "data": {
      "image/png": "[encoded data removed]",
      "text/plain": [
       "<Figure size 432x288 with 1 Axes>"
      ]
     },
     "metadata": {}
    }
   ],
   "metadata": {}
  },
  {
   "cell_type": "markdown",
   "source": [
    "'updateGraphRS' appears to have a tight distribution close to zero, suggsting it is the best scheme for our prior distribution over preference types."
   ],
   "metadata": {}
  },
  {
   "cell_type": "code",
   "execution_count": null,
   "source": [],
   "outputs": [],
   "metadata": {}
  }
 ],
 "metadata": {
  "kernelspec": {
   "name": "python3",
   "display_name": "Python 3.8.8 64-bit ('base': conda)"
  },
  "language_info": {
   "codemirror_mode": {
    "name": "ipython",
    "version": 3
   },
   "file_extension": ".py",
   "mimetype": "text/x-python",
   "name": "python",
   "nbconvert_exporter": "python",
   "pygments_lexer": "ipython3",
   "version": "3.8.8"
  },
  "interpreter": {
   "hash": "a894b0d91aa6fdb901c32194035570c2587ca737a18661c5a772d280489dfd59"
  }
 },
 "nbformat": 4,
 "nbformat_minor": 5
}